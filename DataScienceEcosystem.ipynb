{
 "cells": [
  {
   "cell_type": "markdown",
   "id": "8a69a5df",
   "metadata": {},
   "source": [
    "# Data Science Tools and Ecosystem"
   ]
  },
  {
   "cell_type": "markdown",
   "id": "8a153682",
   "metadata": {},
   "source": [
    "## Introduction\n",
    "In this notebook, Data Science Tools and Ecosystem are summarized."
   ]
  },
  {
   "cell_type": "markdown",
   "id": "969c69f5",
   "metadata": {},
   "source": [
    "## Objectives:\n",
    "\n",
    "- List popular languages for Data Science.\n",
    "- Introduce commonly used libraries in Data Science.\n",
    "- Explore open-source development environment tools for Data Science.\n",
    "- Arithmetic operations in Python.\n",
    "- Convert minutes to hours using Python.\n",
    "\n"
   ]
  },
  {
   "cell_type": "markdown",
   "id": "43782ca2",
   "metadata": {},
   "source": [
    "## Data Science Languages\n",
    "\n",
    "Some of the popular languages that Data Scientists use are:\n",
    "\n",
    "1. Python:  It offers powerful frameworks like NumPy, Pandas, and TensorFlow, making it suitable for data manipulation, analysis, and machine learning.\n",
    "\n",
    "2. R: R is another popular language for statistical computing and graphics. It provides packages and libraries for data exploration, visualization, and statistical modeling.\n",
    "\n",
    "3. SQL: SQL (Structured Query Language) is essential for working with relational databases. It allowsto extract, manipulate, and analyze data stored in databases efficiently. \n",
    "\n",
    "4. Matlab:  provides a comprehensive set of tools and functions for numerical computation, data visualization, and programming.\n",
    "\n",
    "5. Scala: It offers a functional programming paradigm  making it suitable for distributed computing and data processing tasks.\n",
    "\n"
   ]
  },
  {
   "cell_type": "markdown",
   "id": "1f2cb292",
   "metadata": {},
   "source": [
    "## Data Science Libraries\n",
    "\n",
    "Some of the commonly used libraries used by Data Scientists include:\n",
    "\n",
    "1. NumPy: Numerical Computing Power.\n",
    "2. Pandas: Data Manipulation Master.\n",
    "3. scikit-learn: Machine Learning Made Easy.\n"
   ]
  },
  {
   "cell_type": "markdown",
   "id": "1e95730d",
   "metadata": {},
   "source": [
    "| Data Science Tools |\n",
    "|-------------------|\n",
    "| Jupyter Notebook  |\n",
    "| RStudio           |\n",
    "| PyCharm Community |\n"
   ]
  },
  {
   "cell_type": "code",
   "execution_count": 6,
   "id": "81655507",
   "metadata": {},
   "outputs": [
    {
     "name": "stdout",
     "output_type": "stream",
     "text": [
      "17\n"
     ]
    }
   ],
   "source": [
    "# This is a simple arithmetic expression to multiply and add numbers.\n",
    "a = 3\n",
    "b = 4\n",
    "c = 5\n",
    "\n",
    "result = (a * b) + c\n",
    "print(result)\n"
   ]
  },
  {
   "cell_type": "code",
   "execution_count": 11,
   "id": "2a05f22a",
   "metadata": {},
   "outputs": [
    {
     "name": "stdout",
     "output_type": "stream",
     "text": [
      "3.3333333333333335\n"
     ]
    }
   ],
   "source": [
    "# This will convert 200 minutes to hours by dividing by 60.\n",
    "hours = 200 / 60\n",
    "\n",
    "print(hours)"
   ]
  },
  {
   "cell_type": "markdown",
   "id": "c817be69",
   "metadata": {},
   "source": [
    "## Author\n",
    "\n",
    "Kherfi Bahia"
   ]
  },
  {
   "cell_type": "code",
   "execution_count": null,
   "id": "50437038",
   "metadata": {},
   "outputs": [],
   "source": []
  }
 ],
 "metadata": {
  "kernelspec": {
   "display_name": "Python 3 (ipykernel)",
   "language": "python",
   "name": "python3"
  },
  "language_info": {
   "codemirror_mode": {
    "name": "ipython",
    "version": 3
   },
   "file_extension": ".py",
   "mimetype": "text/x-python",
   "name": "python",
   "nbconvert_exporter": "python",
   "pygments_lexer": "ipython3",
   "version": "3.9.12"
  }
 },
 "nbformat": 4,
 "nbformat_minor": 5
}
